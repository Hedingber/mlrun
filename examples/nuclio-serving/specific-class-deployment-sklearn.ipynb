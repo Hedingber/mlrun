{
 "cells": [
  {
   "cell_type": "code",
   "execution_count": 1,
   "metadata": {},
   "outputs": [],
   "source": [
    "# nuclio: ignore\n",
    "# if the nuclio-jupyter package is not installed run !pip install nuclio-jupyter\n",
    "import nuclio "
   ]
  },
  {
   "cell_type": "code",
   "execution_count": 2,
   "metadata": {},
   "outputs": [
    {
     "name": "stdout",
     "output_type": "stream",
     "text": [
      "Requirement already satisfied: kfserving in /User/.pythonlibs/lib/python3.6/site-packages (0.2.1)\n",
      "Requirement already satisfied: minio>=4.0.9 in /User/.pythonlibs/lib/python3.6/site-packages (from kfserving) (5.0.1)\n",
      "Requirement already satisfied: table-logger>=0.3.5 in /User/.pythonlibs/lib/python3.6/site-packages (from kfserving) (0.3.6)\n",
      "Requirement already satisfied: numpy in /conda/lib/python3.6/site-packages (from kfserving) (1.16.5)\n",
      "Requirement already satisfied: setuptools>=21.0.0 in /conda/lib/python3.6/site-packages (from kfserving) (41.0.1)\n",
      "Requirement already satisfied: azure in /User/.pythonlibs/lib/python3.6/site-packages (from kfserving) (4.0.0)\n",
      "Requirement already satisfied: urllib3>=1.15.1 in /conda/lib/python3.6/site-packages (from kfserving) (1.24.2)\n",
      "Requirement already satisfied: adal>=1.2.2 in /User/.pythonlibs/lib/python3.6/site-packages (from kfserving) (1.2.2)\n",
      "Requirement already satisfied: azure-storage-blob>=2.1.0 in /User/.pythonlibs/lib/python3.6/site-packages (from kfserving) (2.1.0)\n",
      "Requirement already satisfied: certifi>=14.05.14 in /conda/lib/python3.6/site-packages (from kfserving) (2019.6.16)\n",
      "Requirement already satisfied: six>=1.10 in /conda/lib/python3.6/site-packages (from kfserving) (1.12.0)\n",
      "Requirement already satisfied: kubernetes>=10.0.1 in /User/.pythonlibs/lib/python3.6/site-packages (from kfserving) (10.0.1)\n",
      "Requirement already satisfied: python-dateutil>=2.5.3 in /conda/lib/python3.6/site-packages (from kfserving) (2.8.0)\n",
      "Requirement already satisfied: tornado>=1.4.1 in /User/.pythonlibs/lib/python3.6/site-packages (from kfserving) (5.1.1)\n",
      "Requirement already satisfied: argparse>=1.4.0 in /User/.pythonlibs/lib/python3.6/site-packages (from kfserving) (1.4.0)\n",
      "Requirement already satisfied: google-cloud-storage>=1.16.0 in /User/.pythonlibs/lib/python3.6/site-packages (from kfserving) (1.20.0)\n",
      "Requirement already satisfied: pytz in /conda/lib/python3.6/site-packages (from minio>=4.0.9->kfserving) (2019.2)\n",
      "Requirement already satisfied: future in /conda/lib/python3.6/site-packages (from minio>=4.0.9->kfserving) (0.17.1)\n",
      "Requirement already satisfied: azure-servicemanagement-legacy~=0.20.6 in /User/.pythonlibs/lib/python3.6/site-packages (from azure->kfserving) (0.20.6)\n",
      "Requirement already satisfied: azure-keyvault~=1.0 in /User/.pythonlibs/lib/python3.6/site-packages (from azure->kfserving) (1.1.0)\n",
      "Requirement already satisfied: azure-servicebus~=0.21.1 in /User/.pythonlibs/lib/python3.6/site-packages (from azure->kfserving) (0.21.1)\n",
      "Requirement already satisfied: azure-storage-file~=1.3 in /User/.pythonlibs/lib/python3.6/site-packages (from azure->kfserving) (1.4.0)\n",
      "Requirement already satisfied: azure-eventgrid~=1.1 in /User/.pythonlibs/lib/python3.6/site-packages (from azure->kfserving) (1.3.0)\n",
      "Requirement already satisfied: azure-servicefabric~=6.3.0.0 in /User/.pythonlibs/lib/python3.6/site-packages (from azure->kfserving) (6.3.0.0)\n",
      "Requirement already satisfied: azure-cosmosdb-table~=1.0 in /User/.pythonlibs/lib/python3.6/site-packages (from azure->kfserving) (1.0.5)\n",
      "Requirement already satisfied: azure-applicationinsights~=0.1.0 in /User/.pythonlibs/lib/python3.6/site-packages (from azure->kfserving) (0.1.0)\n",
      "Requirement already satisfied: azure-datalake-store~=0.0.18 in /User/.pythonlibs/lib/python3.6/site-packages (from azure->kfserving) (0.0.47)\n",
      "Requirement already satisfied: azure-storage-queue~=1.3 in /User/.pythonlibs/lib/python3.6/site-packages (from azure->kfserving) (1.4.0)\n",
      "Requirement already satisfied: azure-mgmt~=4.0 in /User/.pythonlibs/lib/python3.6/site-packages (from azure->kfserving) (4.0.0)\n",
      "Requirement already satisfied: azure-graphrbac~=0.40.0 in /User/.pythonlibs/lib/python3.6/site-packages (from azure->kfserving) (0.40.0)\n",
      "Requirement already satisfied: azure-batch~=4.1 in /User/.pythonlibs/lib/python3.6/site-packages (from azure->kfserving) (4.1.3)\n",
      "Requirement already satisfied: azure-loganalytics~=0.1.0 in /User/.pythonlibs/lib/python3.6/site-packages (from azure->kfserving) (0.1.0)\n",
      "Requirement already satisfied: requests>=2.0.0 in /conda/lib/python3.6/site-packages (from adal>=1.2.2->kfserving) (2.22.0)\n",
      "Requirement already satisfied: cryptography>=1.1.0 in /conda/lib/python3.6/site-packages (from adal>=1.2.2->kfserving) (2.7)\n",
      "Requirement already satisfied: PyJWT>=1.0.0 in /User/.pythonlibs/lib/python3.6/site-packages (from adal>=1.2.2->kfserving) (1.7.1)\n",
      "Requirement already satisfied: azure-storage-common~=2.1 in /User/.pythonlibs/lib/python3.6/site-packages (from azure-storage-blob>=2.1.0->kfserving) (2.1.0)\n",
      "Requirement already satisfied: azure-common>=1.1.5 in /User/.pythonlibs/lib/python3.6/site-packages (from azure-storage-blob>=2.1.0->kfserving) (1.1.23)\n",
      "Requirement already satisfied: requests-oauthlib in /User/.pythonlibs/lib/python3.6/site-packages (from kubernetes>=10.0.1->kfserving) (1.2.0)\n",
      "Requirement already satisfied: google-auth>=1.0.1 in /User/.pythonlibs/lib/python3.6/site-packages (from kubernetes>=10.0.1->kfserving) (1.6.3)\n",
      "Requirement already satisfied: websocket-client!=0.40.0,!=0.41.*,!=0.42.*,>=0.32.0 in /User/.pythonlibs/lib/python3.6/site-packages (from kubernetes>=10.0.1->kfserving) (0.56.0)\n",
      "Requirement already satisfied: pyyaml>=3.12 in /conda/lib/python3.6/site-packages (from kubernetes>=10.0.1->kfserving) (5.1.2)\n",
      "Requirement already satisfied: google-cloud-core<2.0dev,>=1.0.3 in /User/.pythonlibs/lib/python3.6/site-packages (from google-cloud-storage>=1.16.0->kfserving) (1.0.3)\n",
      "Requirement already satisfied: google-resumable-media!=0.4.0,<0.5dev,>=0.3.1 in /User/.pythonlibs/lib/python3.6/site-packages (from google-cloud-storage>=1.16.0->kfserving) (0.4.1)\n",
      "Requirement already satisfied: azure-nspkg>=2.0.0 in /User/.pythonlibs/lib/python3.6/site-packages (from azure-servicemanagement-legacy~=0.20.6->azure->kfserving) (3.0.2)\n",
      "Requirement already satisfied: msrestazure<2.0.0,>=0.4.32 in /User/.pythonlibs/lib/python3.6/site-packages (from azure-keyvault~=1.0->azure->kfserving) (0.6.2)\n",
      "Requirement already satisfied: msrest>=0.5.0 in /User/.pythonlibs/lib/python3.6/site-packages (from azure-keyvault~=1.0->azure->kfserving) (0.6.10)\n",
      "Requirement already satisfied: azure-cosmosdb-nspkg>=2.0.0 in /User/.pythonlibs/lib/python3.6/site-packages (from azure-cosmosdb-table~=1.0->azure->kfserving) (2.0.2)\n",
      "Requirement already satisfied: cffi in /conda/lib/python3.6/site-packages (from azure-datalake-store~=0.0.18->azure->kfserving) (1.12.3)\n",
      "Requirement already satisfied: azure-mgmt-advisor~=1.0 in /User/.pythonlibs/lib/python3.6/site-packages (from azure-mgmt~=4.0->azure->kfserving) (1.0.1)\n",
      "Requirement already satisfied: azure-mgmt-signalr~=0.1.0 in /User/.pythonlibs/lib/python3.6/site-packages (from azure-mgmt~=4.0->azure->kfserving) (0.1.1)\n",
      "Requirement already satisfied: azure-mgmt-cognitiveservices~=3.0 in /User/.pythonlibs/lib/python3.6/site-packages (from azure-mgmt~=4.0->azure->kfserving) (3.0.0)\n",
      "Requirement already satisfied: azure-mgmt-storage~=2.0 in /User/.pythonlibs/lib/python3.6/site-packages (from azure-mgmt~=4.0->azure->kfserving) (2.0.0)\n",
      "Requirement already satisfied: azure-mgmt-datafactory~=0.6.0 in /User/.pythonlibs/lib/python3.6/site-packages (from azure-mgmt~=4.0->azure->kfserving) (0.6.0)\n",
      "Requirement already satisfied: azure-mgmt-subscription~=0.2.0 in /User/.pythonlibs/lib/python3.6/site-packages (from azure-mgmt~=4.0->azure->kfserving) (0.2.0)\n",
      "Requirement already satisfied: azure-mgmt-managementpartner~=0.1.0 in /User/.pythonlibs/lib/python3.6/site-packages (from azure-mgmt~=4.0->azure->kfserving) (0.1.1)\n",
      "Requirement already satisfied: azure-mgmt-applicationinsights~=0.1.1 in /User/.pythonlibs/lib/python3.6/site-packages (from azure-mgmt~=4.0->azure->kfserving) (0.1.1)\n",
      "Requirement already satisfied: azure-mgmt-servicefabric~=0.2.0 in /User/.pythonlibs/lib/python3.6/site-packages (from azure-mgmt~=4.0->azure->kfserving) (0.2.0)\n",
      "Requirement already satisfied: azure-mgmt-batchai~=2.0 in /User/.pythonlibs/lib/python3.6/site-packages (from azure-mgmt~=4.0->azure->kfserving) (2.0.0)\n",
      "Requirement already satisfied: azure-mgmt-compute~=4.0 in /User/.pythonlibs/lib/python3.6/site-packages (from azure-mgmt~=4.0->azure->kfserving) (4.6.2)\n",
      "Requirement already satisfied: azure-mgmt-batch~=5.0 in /User/.pythonlibs/lib/python3.6/site-packages (from azure-mgmt~=4.0->azure->kfserving) (5.0.1)\n",
      "Requirement already satisfied: azure-mgmt-cdn~=3.0 in /User/.pythonlibs/lib/python3.6/site-packages (from azure-mgmt~=4.0->azure->kfserving) (3.1.0)\n",
      "Requirement already satisfied: azure-mgmt-eventgrid~=1.0 in /User/.pythonlibs/lib/python3.6/site-packages (from azure-mgmt~=4.0->azure->kfserving) (1.0.0)\n",
      "Requirement already satisfied: azure-mgmt-network~=2.0 in /User/.pythonlibs/lib/python3.6/site-packages (from azure-mgmt~=4.0->azure->kfserving) (2.7.0)\n",
      "Requirement already satisfied: azure-mgmt-recoveryservicesbackup~=0.3.0 in /User/.pythonlibs/lib/python3.6/site-packages (from azure-mgmt~=4.0->azure->kfserving) (0.3.0)\n",
      "Requirement already satisfied: azure-mgmt-scheduler~=2.0 in /User/.pythonlibs/lib/python3.6/site-packages (from azure-mgmt~=4.0->azure->kfserving) (2.0.0)\n",
      "Requirement already satisfied: azure-mgmt-billing~=0.2.0 in /User/.pythonlibs/lib/python3.6/site-packages (from azure-mgmt~=4.0->azure->kfserving) (0.2.0)\n",
      "Requirement already satisfied: azure-mgmt-dns~=2.0 in /User/.pythonlibs/lib/python3.6/site-packages (from azure-mgmt~=4.0->azure->kfserving) (2.1.0)\n",
      "Requirement already satisfied: azure-mgmt-devtestlabs~=2.2 in /User/.pythonlibs/lib/python3.6/site-packages (from azure-mgmt~=4.0->azure->kfserving) (2.2.0)\n",
      "Requirement already satisfied: azure-mgmt-eventhub~=2.1 in /User/.pythonlibs/lib/python3.6/site-packages (from azure-mgmt~=4.0->azure->kfserving) (2.6.0)\n",
      "Requirement already satisfied: azure-mgmt-datalake-analytics~=0.6.0 in /User/.pythonlibs/lib/python3.6/site-packages (from azure-mgmt~=4.0->azure->kfserving) (0.6.0)\n",
      "Requirement already satisfied: azure-mgmt-notificationhubs~=2.0 in /User/.pythonlibs/lib/python3.6/site-packages (from azure-mgmt~=4.0->azure->kfserving) (2.1.0)\n",
      "Requirement already satisfied: azure-mgmt-commerce~=1.0 in /User/.pythonlibs/lib/python3.6/site-packages (from azure-mgmt~=4.0->azure->kfserving) (1.0.1)\n",
      "Requirement already satisfied: azure-mgmt-cosmosdb~=0.4.1 in /User/.pythonlibs/lib/python3.6/site-packages (from azure-mgmt~=4.0->azure->kfserving) (0.4.1)\n",
      "Requirement already satisfied: azure-mgmt-managementgroups~=0.1.0 in /User/.pythonlibs/lib/python3.6/site-packages (from azure-mgmt~=4.0->azure->kfserving) (0.1.0)\n",
      "Requirement already satisfied: azure-mgmt-powerbiembedded~=2.0 in /User/.pythonlibs/lib/python3.6/site-packages (from azure-mgmt~=4.0->azure->kfserving) (2.0.0)\n",
      "Requirement already satisfied: azure-mgmt-resource~=2.0 in /User/.pythonlibs/lib/python3.6/site-packages (from azure-mgmt~=4.0->azure->kfserving) (2.2.0)\n",
      "Requirement already satisfied: azure-mgmt-hanaonazure~=0.1.1 in /User/.pythonlibs/lib/python3.6/site-packages (from azure-mgmt~=4.0->azure->kfserving) (0.1.1)\n",
      "Requirement already satisfied: azure-mgmt-rdbms~=1.2 in /User/.pythonlibs/lib/python3.6/site-packages (from azure-mgmt~=4.0->azure->kfserving) (1.9.0)\n",
      "Requirement already satisfied: azure-mgmt-devspaces~=0.1.0 in /User/.pythonlibs/lib/python3.6/site-packages (from azure-mgmt~=4.0->azure->kfserving) (0.1.0)\n",
      "Requirement already satisfied: azure-mgmt-reservations~=0.2.1 in /User/.pythonlibs/lib/python3.6/site-packages (from azure-mgmt~=4.0->azure->kfserving) (0.2.1)\n",
      "Requirement already satisfied: azure-mgmt-sql~=0.9.1 in /User/.pythonlibs/lib/python3.6/site-packages (from azure-mgmt~=4.0->azure->kfserving) (0.9.1)\n",
      "Requirement already satisfied: azure-mgmt-trafficmanager~=0.50.0 in /User/.pythonlibs/lib/python3.6/site-packages (from azure-mgmt~=4.0->azure->kfserving) (0.50.0)\n",
      "Requirement already satisfied: azure-mgmt-recoveryservices~=0.3.0 in /User/.pythonlibs/lib/python3.6/site-packages (from azure-mgmt~=4.0->azure->kfserving) (0.3.0)\n",
      "Requirement already satisfied: azure-mgmt-containerregistry~=2.1 in /User/.pythonlibs/lib/python3.6/site-packages (from azure-mgmt~=4.0->azure->kfserving) (2.8.0)\n",
      "Requirement already satisfied: azure-mgmt-containerinstance~=1.0 in /User/.pythonlibs/lib/python3.6/site-packages (from azure-mgmt~=4.0->azure->kfserving) (1.5.0)\n",
      "Requirement already satisfied: azure-mgmt-keyvault~=1.0 in /User/.pythonlibs/lib/python3.6/site-packages (from azure-mgmt~=4.0->azure->kfserving) (1.1.0)\n",
      "Requirement already satisfied: azure-mgmt-iothubprovisioningservices~=0.2.0 in /User/.pythonlibs/lib/python3.6/site-packages (from azure-mgmt~=4.0->azure->kfserving) (0.2.0)\n",
      "Requirement already satisfied: azure-mgmt-machinelearningcompute~=0.4.1 in /User/.pythonlibs/lib/python3.6/site-packages (from azure-mgmt~=4.0->azure->kfserving) (0.4.1)\n",
      "Requirement already satisfied: azure-mgmt-maps~=0.1.0 in /User/.pythonlibs/lib/python3.6/site-packages (from azure-mgmt~=4.0->azure->kfserving) (0.1.0)\n",
      "Requirement already satisfied: azure-mgmt-policyinsights~=0.1.0 in /User/.pythonlibs/lib/python3.6/site-packages (from azure-mgmt~=4.0->azure->kfserving) (0.1.0)\n",
      "Requirement already satisfied: azure-mgmt-logic~=3.0 in /User/.pythonlibs/lib/python3.6/site-packages (from azure-mgmt~=4.0->azure->kfserving) (3.0.0)\n",
      "Requirement already satisfied: azure-mgmt-containerservice~=4.2 in /User/.pythonlibs/lib/python3.6/site-packages (from azure-mgmt~=4.0->azure->kfserving) (4.4.0)\n",
      "Requirement already satisfied: azure-mgmt-datalake-store~=0.5.0 in /User/.pythonlibs/lib/python3.6/site-packages (from azure-mgmt~=4.0->azure->kfserving) (0.5.0)\n",
      "Requirement already satisfied: azure-mgmt-loganalytics~=0.2.0 in /User/.pythonlibs/lib/python3.6/site-packages (from azure-mgmt~=4.0->azure->kfserving) (0.2.0)\n",
      "Requirement already satisfied: azure-mgmt-msi~=0.2.0 in /User/.pythonlibs/lib/python3.6/site-packages (from azure-mgmt~=4.0->azure->kfserving) (0.2.0)\n",
      "Requirement already satisfied: azure-mgmt-iotcentral~=0.1.0 in /User/.pythonlibs/lib/python3.6/site-packages (from azure-mgmt~=4.0->azure->kfserving) (0.1.0)\n",
      "Requirement already satisfied: azure-mgmt-consumption~=2.0 in /User/.pythonlibs/lib/python3.6/site-packages (from azure-mgmt~=4.0->azure->kfserving) (2.0.0)\n",
      "Requirement already satisfied: azure-mgmt-datamigration~=1.0 in /User/.pythonlibs/lib/python3.6/site-packages (from azure-mgmt~=4.0->azure->kfserving) (1.0.0)\n",
      "Requirement already satisfied: azure-mgmt-monitor~=0.5.2 in /User/.pythonlibs/lib/python3.6/site-packages (from azure-mgmt~=4.0->azure->kfserving) (0.5.2)\n",
      "Requirement already satisfied: azure-mgmt-redis~=5.0 in /User/.pythonlibs/lib/python3.6/site-packages (from azure-mgmt~=4.0->azure->kfserving) (5.0.0)\n",
      "Requirement already satisfied: azure-mgmt-media~=1.0.0rc2 in /User/.pythonlibs/lib/python3.6/site-packages (from azure-mgmt~=4.0->azure->kfserving) (1.0.0)\n",
      "Requirement already satisfied: azure-mgmt-marketplaceordering~=0.1.0 in /User/.pythonlibs/lib/python3.6/site-packages (from azure-mgmt~=4.0->azure->kfserving) (0.1.0)\n",
      "Requirement already satisfied: azure-mgmt-search~=2.0 in /User/.pythonlibs/lib/python3.6/site-packages (from azure-mgmt~=4.0->azure->kfserving) (2.1.0)\n",
      "Requirement already satisfied: azure-mgmt-servicebus~=0.5.1 in /User/.pythonlibs/lib/python3.6/site-packages (from azure-mgmt~=4.0->azure->kfserving) (0.5.3)\n",
      "Requirement already satisfied: azure-mgmt-web~=0.35.0 in /User/.pythonlibs/lib/python3.6/site-packages (from azure-mgmt~=4.0->azure->kfserving) (0.35.0)\n",
      "Requirement already satisfied: azure-mgmt-relay~=0.1.0 in /User/.pythonlibs/lib/python3.6/site-packages (from azure-mgmt~=4.0->azure->kfserving) (0.1.0)\n",
      "Requirement already satisfied: azure-mgmt-iothub~=0.5.0 in /User/.pythonlibs/lib/python3.6/site-packages (from azure-mgmt~=4.0->azure->kfserving) (0.5.0)\n",
      "Requirement already satisfied: azure-mgmt-authorization~=0.50.0 in /User/.pythonlibs/lib/python3.6/site-packages (from azure-mgmt~=4.0->azure->kfserving) (0.50.0)\n",
      "Requirement already satisfied: idna<2.9,>=2.5 in /conda/lib/python3.6/site-packages (from requests>=2.0.0->adal>=1.2.2->kfserving) (2.8)\n",
      "Requirement already satisfied: chardet<3.1.0,>=3.0.2 in /conda/lib/python3.6/site-packages (from requests>=2.0.0->adal>=1.2.2->kfserving) (3.0.4)\n",
      "Requirement already satisfied: asn1crypto>=0.21.0 in /conda/lib/python3.6/site-packages (from cryptography>=1.1.0->adal>=1.2.2->kfserving) (0.24.0)\n",
      "Requirement already satisfied: oauthlib>=3.0.0 in /User/.pythonlibs/lib/python3.6/site-packages (from requests-oauthlib->kubernetes>=10.0.1->kfserving) (3.1.0)\n",
      "Requirement already satisfied: pyasn1-modules>=0.2.1 in /User/.pythonlibs/lib/python3.6/site-packages (from google-auth>=1.0.1->kubernetes>=10.0.1->kfserving) (0.2.7)\n",
      "Requirement already satisfied: rsa>=3.1.4 in /User/.pythonlibs/lib/python3.6/site-packages (from google-auth>=1.0.1->kubernetes>=10.0.1->kfserving) (4.0)\n",
      "Requirement already satisfied: cachetools>=2.0.0 in /User/.pythonlibs/lib/python3.6/site-packages (from google-auth>=1.0.1->kubernetes>=10.0.1->kfserving) (3.1.1)\n",
      "Requirement already satisfied: google-api-core<2.0.0dev,>=1.14.0 in /User/.pythonlibs/lib/python3.6/site-packages (from google-cloud-core<2.0dev,>=1.0.3->google-cloud-storage>=1.16.0->kfserving) (1.14.3)\n",
      "Requirement already satisfied: isodate>=0.6.0 in /User/.pythonlibs/lib/python3.6/site-packages (from msrest>=0.5.0->azure-keyvault~=1.0->azure->kfserving) (0.6.0)\n",
      "Requirement already satisfied: pycparser in /conda/lib/python3.6/site-packages (from cffi->azure-datalake-store~=0.0.18->azure->kfserving) (2.19)\n",
      "Requirement already satisfied: azure-mgmt-nspkg>=2.0.0 in /User/.pythonlibs/lib/python3.6/site-packages (from azure-mgmt-advisor~=1.0->azure-mgmt~=4.0->azure->kfserving) (3.0.2)\n",
      "Requirement already satisfied: azure-mgmt-datalake-nspkg>=2.0.0 in /User/.pythonlibs/lib/python3.6/site-packages (from azure-mgmt-datalake-analytics~=0.6.0->azure-mgmt~=4.0->azure->kfserving) (3.0.1)\n",
      "Requirement already satisfied: pyasn1<0.5.0,>=0.4.6 in /User/.pythonlibs/lib/python3.6/site-packages (from pyasn1-modules>=0.2.1->google-auth>=1.0.1->kubernetes>=10.0.1->kfserving) (0.4.7)\n",
      "Requirement already satisfied: protobuf>=3.4.0 in /conda/lib/python3.6/site-packages (from google-api-core<2.0.0dev,>=1.14.0->google-cloud-core<2.0dev,>=1.0.3->google-cloud-storage>=1.16.0->kfserving) (3.9.1)\n",
      "Requirement already satisfied: googleapis-common-protos<2.0dev,>=1.6.0 in /conda/lib/python3.6/site-packages (from google-api-core<2.0.0dev,>=1.14.0->google-cloud-core<2.0dev,>=1.0.3->google-cloud-storage>=1.16.0->kfserving) (1.6.0)\n",
      "Requirement already satisfied: numpy in /conda/lib/python3.6/site-packages (1.16.5)\n",
      "Collecting sklearn\n",
      "  Downloading https://files.pythonhosted.org/packages/1e/7a/dbb3be0ce9bd5c8b7e3d87328e79063f8b263b2b1bfa4774cb1147bfcd3f/sklearn-0.0.tar.gz\n",
      "Requirement already satisfied: scikit-learn in /User/.pythonlibs/lib/python3.6/site-packages (from sklearn) (0.20.1)\n",
      "Requirement already satisfied: scipy>=0.13.3 in /conda/lib/python3.6/site-packages (from scikit-learn->sklearn) (1.3.1)\n",
      "Requirement already satisfied: numpy>=1.8.2 in /conda/lib/python3.6/site-packages (from scikit-learn->sklearn) (1.16.5)\n",
      "Building wheels for collected packages: sklearn\n",
      "  Running setup.py bdist_wheel for sklearn ... \u001b[?25ldone\n",
      "\u001b[?25h  Stored in directory: /igz/.cache/pip/wheels/76/03/bb/589d421d27431bcd2c6da284d5f2286c8e3b2ea3cf1594c074\n",
      "Successfully built sklearn\n",
      "Installing collected packages: sklearn\n",
      "Successfully installed sklearn-0.0\n",
      "Requirement already satisfied: joblib in /User/.pythonlibs/lib/python3.6/site-packages (0.14.0)\n"
     ]
    }
   ],
   "source": [
    "%%nuclio cmd\n",
    "pip install kfserving\n",
    "pip install numpy\n",
    "pip install sklearn\n",
    "pip install joblib"
   ]
  },
  {
   "cell_type": "code",
   "execution_count": 3,
   "metadata": {},
   "outputs": [],
   "source": [
    "import kfserving\n",
    "import os\n",
    "import numpy as np\n",
    "from typing import List, Any\n",
    "\n",
    "import sklearn\n",
    "import joblib"
   ]
  },
  {
   "cell_type": "code",
   "execution_count": 4,
   "metadata": {},
   "outputs": [],
   "source": [
    "class SKModel(kfserving.KFModel):\n",
    "    def __init__(self, name: str, model_dir: str):\n",
    "        super().__init__(name)\n",
    "        self.name = name\n",
    "        self.model_filepath = model_dir\n",
    "        self.model = None\n",
    "\n",
    "\n",
    "    def load(self):\n",
    "        model_file = kfserving.Storage.download(self.model_filepath)\n",
    "\n",
    "        try:\n",
    "            self.model = joblib.load(model_file)\n",
    "        except:\n",
    "            self.model = pickle.load(model_file)\n",
    "\n",
    "        self.ready = True\n",
    "\n",
    "\n",
    "    def predict(self, body: List) -> List:\n",
    "\n",
    "        if not self.ready:\n",
    "            self.load()\n",
    "\n",
    "        try:\n",
    "            # Predict\n",
    "            predicted_probability = self.model.predict(body)\n",
    "            return predicted_probability.tolist()\n",
    "\n",
    "        except Exception as e:\n",
    "            raise Exception(\"Failed to predict %s\" % e)"
   ]
  },
  {
   "cell_type": "code",
   "execution_count": 5,
   "metadata": {},
   "outputs": [],
   "source": [
    "# nuclio: end-code\n",
    "from mlrun import new_model_server\n",
    "import requests"
   ]
  },
  {
   "cell_type": "code",
   "execution_count": 6,
   "metadata": {},
   "outputs": [
    {
     "name": "stdout",
     "output_type": "stream",
     "text": [
      "Function yaml (dict):\n",
      "{'kind': 'remote', 'metadata': {'name': 'iris-sklearn-advanced'}, 'spec': {'command': '', 'args': [], 'image': '', 'mode': '', 'description': '', 'volumes': [{'volume': {'flexVolume': {'driver': 'v3io/fuse', 'options': {'accessKey': '460ee949-eaaa-468a-ae26-5fdb9156996e', 'container': 'users', 'subPath': '/admin'}}, 'name': 'fs'}, 'volumeMount': {'name': 'fs', 'mountPath': 'User'}}], 'env': {'SERVING_MODEL_iris_v1': '/User/models/iris_v1/model.sklearn', 'TRANSPORT_PROTOCOL': 'seldon', 'ENABLE_EXPLAINER': 'False', 'MODEL_CLASS': 'SKModel', 'V3IO_USERNAME': 'admin', 'V3IO_ACCESS_KEY': '460ee949-eaaa-468a-ae26-5fdb9156996e', 'V3IO_API': 'v3io-webapi.default-tenant.svc:8081'}, 'config': {'spec.triggers.http': {'kind': 'http', 'maxWorkers': 8, 'attributes': {'ingresses': {}}, 'annotations': {}}}, 'build_commands': [], 'base_spec': {'apiVersion': 'nuclio.io/v1', 'kind': 'Function', 'metadata': {'annotations': {'nuclio.io/generated_by': 'function generated at 23-10-2019 by admin from /User/mlrun/examples/nuclio-serving/specific-class-deployment-sklearn.ipynb'}, 'labels': {}, 'name': 'specific-class-deployment-sklearn'}, 'spec': {'build': {'commands': ['pip install kfserving', 'pip install numpy', 'pip install sklearn', 'pip install joblib'], 'functionSourceCode': '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', 'noBaseImagesPull': True}, 'env': [], 'handler': 'specific-class-deployment-sklearn:handler', 'runtime': 'python:3.6', 'volumes': []}}, 'source': '', 'function_kind': 'serving'}}\n"
     ]
    }
   ],
   "source": [
    "fn = new_model_server('iris-sklearn-advanced', models={'iris_v1': '/User/models/iris_v1/model.sklearn'}, model_class='SKModel')\n",
    "fn.with_v3io('User','~/') \n",
    "print(f'Function yaml (dict):\\n{fn.to_dict()}')"
   ]
  },
  {
   "cell_type": "code",
   "execution_count": 7,
   "metadata": {},
   "outputs": [
    {
     "name": "stdout",
     "output_type": "stream",
     "text": [
      "[nuclio] 2019-10-23 07:46:18,099 (info) Building processor image\n",
      "[nuclio] 2019-10-23 07:46:26,183 (info) Build complete\n",
      "[nuclio] 2019-10-23 07:46:32,248 (info) Function deploy complete\n",
      "[nuclio] 2019-10-23 07:46:32,254 done updating iris-sklearn-advanced, function address: 192.168.206.37:31664\n"
     ]
    }
   ],
   "source": [
    "addr = fn.deploy(project='nuclio-serving')"
   ]
  },
  {
   "cell_type": "code",
   "execution_count": 8,
   "metadata": {},
   "outputs": [
    {
     "name": "stdout",
     "output_type": "stream",
     "text": [
      "Sent event:\n",
      "{\"data\": {\"ndarray\": [[6.4, 2.8, 5.6, 2.2], [5.2, 3.4, 1.4, 0.2]]}}\n",
      "\n",
      "Prediction (Response):\n",
      "b'{\"data\": {\"ndarray\": [2, 0]}}'\n"
     ]
    }
   ],
   "source": [
    "import requests\n",
    "\n",
    "# Get sample event \n",
    "samples = [[6.4, 2.8, 5.6, 2.2], [5.2, 3.4, 1.4, 0.2]]\n",
    "\n",
    "# Seldon protocol event\n",
    "event_seldon = {\"data\": {\"ndarray\": samples}}\n",
    "event_general = {\"data\": samples}\n",
    "even_tensorflow = {\"instances\": samples}\n",
    "event = event_seldon\n",
    "\n",
    "csel = str(event).replace(\"\\'\", \"\\\"\")\n",
    "print(f'Sent event:\\n{csel}\\n')\n",
    "\n",
    "resp = requests.put(addr + '/predict/iris_v1', data=csel)\n",
    "print(f'Prediction (Response):\\n{resp.content}')"
   ]
  },
  {
   "cell_type": "code",
   "execution_count": null,
   "metadata": {},
   "outputs": [],
   "source": []
  }
 ],
 "metadata": {
  "kernelspec": {
   "display_name": "Python 3",
   "language": "python",
   "name": "python3"
  },
  "language_info": {
   "codemirror_mode": {
    "name": "ipython",
    "version": 3
   },
   "file_extension": ".py",
   "mimetype": "text/x-python",
   "name": "python",
   "nbconvert_exporter": "python",
   "pygments_lexer": "ipython3",
   "version": "3.6.8"
  }
 },
 "nbformat": 4,
 "nbformat_minor": 4
}
