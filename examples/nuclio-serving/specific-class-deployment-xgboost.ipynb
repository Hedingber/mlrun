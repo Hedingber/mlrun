{
 "cells": [
  {
   "cell_type": "code",
   "execution_count": 1,
   "metadata": {},
   "outputs": [],
   "source": [
    "# nuclio: ignore\n",
    "# if the nuclio-jupyter package is not installed run !pip install nuclio-jupyter\n",
    "import nuclio "
   ]
  },
  {
   "cell_type": "code",
   "execution_count": null,
   "metadata": {},
   "outputs": [],
   "source": [
    "%%nuclio cmd\n",
    "pip install kfserving\n",
    "pip install numpy\n",
    "pip install xgboost"
   ]
  },
  {
   "cell_type": "code",
   "execution_count": 3,
   "metadata": {},
   "outputs": [],
   "source": [
    "import kfserving\n",
    "import os\n",
    "import numpy as np\n",
    "from typing import List, Any\n",
    "\n",
    "import xgboost as xgb"
   ]
  },
  {
   "cell_type": "code",
   "execution_count": 4,
   "metadata": {},
   "outputs": [],
   "source": [
    "BOOSTER_FILE = \"model.xgboost\"\n",
    "\n",
    "class XGBoostModel(kfserving.KFModel):\n",
    "    def __init__(self, name: str, model_dir: str, booster: xgb.XGBModel = None):\n",
    "        super().__init__(name)\n",
    "        self.name = name\n",
    "        self.model_dir = model_dir\n",
    "        if not booster is None:\n",
    "            self._booster = booster\n",
    "            self.ready = True\n",
    "\n",
    "    def load(self):\n",
    "        model_file = os.path.join(\n",
    "            kfserving.Storage.download(self.model_dir), BOOSTER_FILE)\n",
    "        self._booster = xgb.Booster(model_file=model_file)\n",
    "        self.ready = True\n",
    "\n",
    "    def predict(self, body: List) -> List:\n",
    "        try:\n",
    "            # Use of list as input is deprecated see https://github.com/dmlc/xgboost/pull/3970\n",
    "            dmatrix = xgb.DMatrix(body)\n",
    "            result: xgb.DMatrix = self._booster.predict(dmatrix)\n",
    "            return result.tolist()\n",
    "        except Exception as e:\n",
    "            raise Exception(\"Failed to predict %s\" % e)\n"
   ]
  },
  {
   "cell_type": "code",
   "execution_count": 5,
   "metadata": {},
   "outputs": [],
   "source": [
    "# nuclio: end-code\n",
    "from mlrun import new_model_server\n",
    "import requests"
   ]
  },
  {
   "cell_type": "code",
   "execution_count": 6,
   "metadata": {},
   "outputs": [
    {
     "name": "stdout",
     "output_type": "stream",
     "text": [
      "Function yaml (dict):\n",
      "{'kind': 'remote', 'metadata': {'name': 'iris-xgboost-advanced'}, 'spec': {'command': '', 'args': [], 'image': '', 'mode': '', 'description': '', 'volumes': [{'volume': {'flexVolume': {'driver': 'v3io/fuse', 'options': {'accessKey': '460ee949-eaaa-468a-ae26-5fdb9156996e', 'container': 'users', 'subPath': '/admin'}}, 'name': 'fs'}, 'volumeMount': {'name': 'fs', 'mountPath': 'User'}}], 'env': {'SERVING_MODEL_iris_v2': '/User/models/iris_v2', 'TRANSPORT_PROTOCOL': 'seldon', 'ENABLE_EXPLAINER': 'False', 'MODEL_CLASS': 'XGBoostModel', 'V3IO_USERNAME': 'admin', 'V3IO_ACCESS_KEY': '460ee949-eaaa-468a-ae26-5fdb9156996e', 'V3IO_API': 'v3io-webapi.default-tenant.svc:8081'}, 'config': {'spec.triggers.http': {'kind': 'http', 'maxWorkers': 8, 'attributes': {'ingresses': {}}, 'annotations': {}}}, 'build_commands': [], 'base_spec': {'apiVersion': 'nuclio.io/v1', 'kind': 'Function', 'metadata': {'annotations': {'nuclio.io/generated_by': 'function generated at 23-10-2019 by admin from /User/mlrun/examples/nuclio-serving/specific-class-deployment-xgboost.ipynb'}, 'labels': {}, 'name': 'specific-class-deployment-xgboost'}, 'spec': {'build': {'commands': ['pip install kfserving', 'pip install numpy', 'pip install xgboost'], 'functionSourceCode': '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', 'noBaseImagesPull': True}, 'env': [], 'handler': 'specific-class-deployment-xgboost:handler', 'runtime': 'python:3.6', 'volumes': []}}, 'source': '', 'function_kind': 'serving'}}\n"
     ]
    }
   ],
   "source": [
    "fn = new_model_server('iris-xgboost-advanced', models={'iris_v2': '/User/models/iris_v2'}, model_class='XGBoostModel')\n",
    "fn.with_v3io('User','~/') \n",
    "print(f'Function yaml (dict):\\n{fn.to_dict()}')"
   ]
  },
  {
   "cell_type": "code",
   "execution_count": 7,
   "metadata": {},
   "outputs": [
    {
     "name": "stdout",
     "output_type": "stream",
     "text": [
      "[nuclio] 2019-10-23 07:45:38,702 (info) Building processor image\n",
      "[nuclio] 2019-10-23 07:45:46,793 (info) Build complete\n",
      "[nuclio] 2019-10-23 07:45:54,900 (info) Function deploy complete\n",
      "[nuclio] 2019-10-23 07:45:54,906 done updating iris-xgboost-advanced, function address: 192.168.206.37:31940\n"
     ]
    }
   ],
   "source": [
    "addr = fn.deploy(project='nuclio-serving')"
   ]
  },
  {
   "cell_type": "code",
   "execution_count": 8,
   "metadata": {},
   "outputs": [
    {
     "name": "stdout",
     "output_type": "stream",
     "text": [
      "Sent event:\n",
      "{\"data\": {\"ndarray\": [[6.4, 2.8, 5.6, 2.2], [5.2, 3.4, 1.4, 0.2]]}}\n",
      "\n",
      "Prediction (Response):\n",
      "b'{\"data\": {\"ndarray\": [[0.01101686805486679, 0.013427456840872765, 0.9755556583404541], [0.973975419998169, 0.014415861107409, 0.011608744971454144]]}}'\n"
     ]
    }
   ],
   "source": [
    "import requests\n",
    "\n",
    "# Get sample event \n",
    "samples = [[6.4, 2.8, 5.6, 2.2], [5.2, 3.4, 1.4, 0.2]]\n",
    "\n",
    "# Seldon protocol event\n",
    "event_seldon = {\"data\": {\"ndarray\": samples}}\n",
    "event_general = {\"data\": samples}\n",
    "even_tensorflow = {\"instances\": samples}\n",
    "event = event_seldon\n",
    "\n",
    "csel = str(event).replace(\"\\'\", \"\\\"\")\n",
    "print(f'Sent event:\\n{csel}\\n')\n",
    "\n",
    "resp = requests.put(addr + '/predict/iris_v2', data=csel)\n",
    "print(f'Prediction (Response):\\n{resp.content}')"
   ]
  },
  {
   "cell_type": "code",
   "execution_count": null,
   "metadata": {},
   "outputs": [],
   "source": []
  }
 ],
 "metadata": {
  "kernelspec": {
   "display_name": "Python 3",
   "language": "python",
   "name": "python3"
  },
  "language_info": {
   "codemirror_mode": {
    "name": "ipython",
    "version": 3
   },
   "file_extension": ".py",
   "mimetype": "text/x-python",
   "name": "python",
   "nbconvert_exporter": "python",
   "pygments_lexer": "ipython3",
   "version": "3.6.8"
  }
 },
 "nbformat": 4,
 "nbformat_minor": 4
}
