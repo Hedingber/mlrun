{
 "cells": [
  {
   "cell_type": "markdown",
   "metadata": {},
   "source": [
    "# Train and Deploy XGBoost models via MLRun & Nuclio"
   ]
  },
  {
   "cell_type": "code",
   "execution_count": null,
   "metadata": {},
   "outputs": [],
   "source": [
    "!pip install mlrun\n",
    "!pip install sklearn\n",
    "!pip install xgboost\n",
    "!pip install requests"
   ]
  },
  {
   "cell_type": "code",
   "execution_count": 1,
   "metadata": {},
   "outputs": [],
   "source": [
    "import os\n",
    "import numpy as np\n",
    "from mlrun import new_model_server"
   ]
  },
  {
   "cell_type": "markdown",
   "metadata": {},
   "source": [
    "## Acquire dataset"
   ]
  },
  {
   "cell_type": "code",
   "execution_count": 2,
   "metadata": {},
   "outputs": [],
   "source": [
    "from sklearn.datasets import load_iris\n",
    "from sklearn.model_selection import train_test_split\n",
    "\n",
    "def load_dataset(test_size=0.2):\n",
    "    iris = load_iris()\n",
    "    y = iris['target']\n",
    "    X = iris['data']\n",
    "    return train_test_split(X, y, test_size=test_size)\n",
    "    \n",
    "X_train, X_test, y_train, y_test = load_dataset(0.2)"
   ]
  },
  {
   "cell_type": "markdown",
   "metadata": {},
   "source": [
    "## Define pipeline"
   ]
  },
  {
   "cell_type": "code",
   "execution_count": 3,
   "metadata": {},
   "outputs": [
    {
     "name": "stdout",
     "output_type": "stream",
     "text": [
      "Training model with params:\n",
      "{'max_depth': 6, 'eta': 0.2, 'nthread': 4, 'num_class': 3, 'gamma': 0.1, 'objective': 'multi:softprob'}\n",
      "\n",
      "Model results:\n",
      "1.0\n"
     ]
    }
   ],
   "source": [
    "import xgboost as xgb\n",
    "from sklearn.metrics import accuracy_score\n",
    "\n",
    "def xgb_train(X_train,\n",
    "              X_test,\n",
    "              y_train,\n",
    "              y_test,\n",
    "              max_depth=6,\n",
    "              num_class=3,\n",
    "              eta=0.2,\n",
    "              gamma=0.1,\n",
    "              steps=20):\n",
    "\n",
    "    # Get params from event\n",
    "    param = {\"max_depth\": max_depth,\n",
    "             \"eta\": eta, \"nthread\": 4,\n",
    "             \"num_class\": num_class,\n",
    "             \"gamma\": gamma,\n",
    "             \"objective\": \"multi:softprob\"}\n",
    "    \n",
    "    dtrain = xgb.DMatrix(X_train, label=y_train)\n",
    "    dtest = xgb.DMatrix(X_test)\n",
    "\n",
    "    # Train model\n",
    "    print(f'Training model with params:\\n{param}\\n')\n",
    "    xgb_model = xgb.train(param, dtrain, steps)\n",
    "       \n",
    "    preds = xgb_model.predict(dtest)\n",
    "    best_preds = np.asarray([np.argmax(line) for line in preds])\n",
    "    print(f'Model results:\\n{float(accuracy_score(y_test, best_preds))}')\n",
    "    \n",
    "    return xgb_model\n",
    "\n",
    "model = xgb_train(X_train, X_test, y_train, y_test)"
   ]
  },
  {
   "cell_type": "markdown",
   "metadata": {},
   "source": [
    "## Save the model"
   ]
  },
  {
   "cell_type": "code",
   "execution_count": 4,
   "metadata": {},
   "outputs": [],
   "source": [
    "MODEL_PATH = '/User/models/iris_v2/model.xgboost'\n",
    "MODEL_DIR = os.path.dirname(MODEL_PATH)\n",
    "\n",
    "# Verify directory exists\n",
    "os.makedirs(MODEL_DIR, exist_ok=True)\n",
    "\n",
    "# Save model\n",
    "model.save_model(MODEL_PATH)"
   ]
  },
  {
   "cell_type": "markdown",
   "metadata": {},
   "source": [
    "## Deploy model"
   ]
  },
  {
   "cell_type": "code",
   "execution_count": 5,
   "metadata": {},
   "outputs": [
    {
     "name": "stdout",
     "output_type": "stream",
     "text": [
      "Function definition:\n",
      "{'kind': 'remote', 'metadata': {'name': 'xgboost-server'}, 'spec': {'command': '', 'args': [], 'image': '', 'mode': '', 'description': '', 'volumes': [{'volume': {'flexVolume': {'driver': 'v3io/fuse', 'options': {'accessKey': '460ee949-eaaa-468a-ae26-5fdb9156996e', 'container': 'users', 'subPath': '/admin'}}, 'name': 'fs'}, 'volumeMount': {'name': 'fs', 'mountPath': 'User'}}], 'env': {'SERVING_MODEL_iris_v2': '/User/models/iris_v2/model.xgboost', 'TRANSPORT_PROTOCOL': 'general', 'ENABLE_EXPLAINER': 'False', 'MODEL_CLASS': 'XGBoostModel', 'V3IO_USERNAME': 'admin', 'V3IO_ACCESS_KEY': '460ee949-eaaa-468a-ae26-5fdb9156996e', 'V3IO_API': 'v3io-webapi.default-tenant.svc:8081'}, 'config': {'spec.triggers.http': {'kind': 'http', 'maxWorkers': 8, 'attributes': {'ingresses': {}}, 'annotations': {}}}, 'build_commands': [], 'base_spec': {'apiVersion': 'nuclio.io/v1', 'kind': 'Function', 'metadata': {'name': 'notebook', 'labels': {}, 'annotations': {}}, 'spec': {'runtime': 'python:3.6', 'handler': 'main:handler', 'env': [], 'volumes': [], 'build': {'commands': [], 'noBaseImagesPull': True, 'codeEntryType': 'image'}, 'image': 'zilbermanor/nuclio-serving-xgboost:latest'}}, 'source': '', 'function_kind': 'serving'}}\n",
      "\n",
      "[nuclio] 2019-10-22 12:22:09,206 (info) Function deploy complete\n",
      "[nuclio] 2019-10-22 12:22:09,212 done updating xgboost-server, function address: 192.168.206.37:31544\n"
     ]
    }
   ],
   "source": [
    "# Declare model server\n",
    "fn = new_model_server('xgboost-server', \n",
    "                      models={'iris_v2': MODEL_PATH}, \n",
    "                      model_class='XGBoostModel',\n",
    "                      image='zilbermanor/nuclio-serving-xgboost:latest',\n",
    "                      protocol='general')\n",
    "fn.with_v3io('User','~/')  # Add v3io mount\n",
    "fn.spec.base_spec['spec']['handler'] = 'main:handler'\n",
    "print(f'Function definition:\\n{fn.to_dict()}\\n')\n",
    "\n",
    "# Deploy\n",
    "addr = fn.deploy(project='nuclio-serving')"
   ]
  },
  {
   "cell_type": "markdown",
   "metadata": {},
   "source": [
    "## Test model"
   ]
  },
  {
   "cell_type": "code",
   "execution_count": 6,
   "metadata": {},
   "outputs": [
    {
     "name": "stdout",
     "output_type": "stream",
     "text": [
      "Samples:\n",
      "[[4.6 3.2 1.4 0.2]\n",
      " [5.2 4.1 1.5 0.1]]\n",
      "\n",
      "Sent event:\n",
      "{\"data\": [[4.6, 3.2, 1.4, 0.2], [5.2, 4.1, 1.5, 0.1]]}\n",
      "\n",
      "Prediction (Response):\n",
      "b'{\"predictions\": [[0.973975419998169, 0.014415861107409, 0.011608744971454144], [0.973975419998169, 0.014415861107409, 0.011608744971454144]]}'\n"
     ]
    }
   ],
   "source": [
    "import requests\n",
    "\n",
    "# Get sample event \n",
    "samples = X_train[:2]\n",
    "print(f'Samples:\\n{samples}\\n')\n",
    "\n",
    "# Seldon protocol event\n",
    "event_seldon = {\"data\": {\"ndarray\": samples.tolist()}}\n",
    "event_general = {\"data\": samples.tolist()}\n",
    "even_tensorflow = {\"instances\": samples.tolist()}\n",
    "event = event_general\n",
    "\n",
    "csel = str(event).replace(\"\\'\", \"\\\"\")\n",
    "print(f'Sent event:\\n{csel}\\n')\n",
    "\n",
    "resp = requests.put(addr + '/predict/iris_v2', data=csel)\n",
    "print(f'Prediction (Response):\\n{resp.content}')"
   ]
  },
  {
   "cell_type": "code",
   "execution_count": null,
   "metadata": {},
   "outputs": [],
   "source": []
  }
 ],
 "metadata": {
  "kernelspec": {
   "display_name": "Python 3",
   "language": "python",
   "name": "python3"
  },
  "language_info": {
   "codemirror_mode": {
    "name": "ipython",
    "version": 3
   },
   "file_extension": ".py",
   "mimetype": "text/x-python",
   "name": "python",
   "nbconvert_exporter": "python",
   "pygments_lexer": "ipython3",
   "version": "3.6.8"
  }
 },
 "nbformat": 4,
 "nbformat_minor": 4
}
